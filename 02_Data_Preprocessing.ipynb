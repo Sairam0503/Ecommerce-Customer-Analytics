{
 "cells": [
  {
   "cell_type": "markdown",
   "id": "ad0f3915-7970-4b22-a3a8-31741ef6afc9",
   "metadata": {},
   "source": [
    "# Data Preprocessing 🧹"
   ]
  },
  {
   "cell_type": "markdown",
   "id": "7a09e5d7-9e41-40fb-a682-b4ced4b17429",
   "metadata": {},
   "source": [
    "##Cleaning the Data\n",
    "\n",
    "###Handling  Missing Customer ID values."
   ]
  },
  {
   "cell_type": "code",
   "execution_count": 2,
   "id": "0464856c-2b89-4618-96b3-cdad4a025d3f",
   "metadata": {},
   "outputs": [
    {
     "name": "stdout",
     "output_type": "stream",
     "text": [
      "Missing values:\n",
      " InvoiceNo           0\n",
      "StockCode           0\n",
      "Description      1454\n",
      "Quantity            0\n",
      "InvoiceDate         0\n",
      "UnitPrice           0\n",
      "CustomerID     135080\n",
      "Country             0\n",
      "dtype: int64\n",
      "After dropping missing CustomerID:\n",
      " InvoiceNo      0\n",
      "StockCode      0\n",
      "Description    0\n",
      "Quantity       0\n",
      "InvoiceDate    0\n",
      "UnitPrice      0\n",
      "CustomerID     0\n",
      "Country        0\n",
      "dtype: int64\n"
     ]
    }
   ],
   "source": [
    "# Let’s see what’s missing\n",
    "print(\"Missing values:\\n\", df.isnull().sum())\n",
    "\n",
    "# Dropping rows where CustomerID is blank since I need it\n",
    "df = df.dropna(subset=['CustomerID'])\n",
    "\n",
    "# Double-checking to see if it worked\n",
    "print(\"After dropping missing CustomerID:\\n\", df.isnull().sum())"
   ]
  },
  {
   "cell_type": "markdown",
   "id": "ae2ff734-d46b-4ed1-a229-a924dd5041a5",
   "metadata": {},
   "source": [
    "dropping missing customerID's. As we drop null values in customer ID. the associated null calues in despriction will also become 0."
   ]
  },
  {
   "cell_type": "markdown",
   "id": "0a297ad5-e61b-4bc4-be5a-092560525f32",
   "metadata": {},
   "source": [
    "## Removing negative values in qunatity and prices."
   ]
  },
  {
   "cell_type": "code",
   "execution_count": 3,
   "id": "b3a265dc-ffb2-4b59-8176-79108b98e0f5",
   "metadata": {},
   "outputs": [
    {
     "name": "stdout",
     "output_type": "stream",
     "text": [
      "Rows after filtering: 397884\n",
      "            Quantity                    InvoiceDate      UnitPrice  \\\n",
      "count  397884.000000                         397884  397884.000000   \n",
      "mean       12.988238  2011-07-10 23:41:23.511023360       3.116488   \n",
      "min         1.000000            2010-12-01 08:26:00       0.001000   \n",
      "25%         2.000000            2011-04-07 11:12:00       1.250000   \n",
      "50%         6.000000            2011-07-31 14:39:00       1.950000   \n",
      "75%        12.000000            2011-10-20 14:33:00       3.750000   \n",
      "max     80995.000000            2011-12-09 12:50:00    8142.750000   \n",
      "std       179.331775                            NaN      22.097877   \n",
      "\n",
      "          CustomerID  \n",
      "count  397884.000000  \n",
      "mean    15294.423453  \n",
      "min     12346.000000  \n",
      "25%     13969.000000  \n",
      "50%     15159.000000  \n",
      "75%     16795.000000  \n",
      "max     18287.000000  \n",
      "std      1713.141560  \n"
     ]
    }
   ],
   "source": [
    "#Removing negative or zero quantites and prices\n",
    "df= df[(df['Quantity']> 0) & (df['UnitPrice']>0)]\n",
    "\n",
    "# Verifying\n",
    "print(\"Rows after filtering:\", len(df))\n",
    "print(df.describe())"
   ]
  },
  {
   "cell_type": "markdown",
   "id": "47a446bc-1a4e-4eec-bbad-97f62b735f3c",
   "metadata": {},
   "source": [
    "## Removoing duplicates"
   ]
  },
  {
   "cell_type": "code",
   "execution_count": 4,
   "id": "70788cda-cacb-4f49-bc5b-90070e9f392e",
   "metadata": {},
   "outputs": [
    {
     "name": "stdout",
     "output_type": "stream",
     "text": [
      "Duplicate rows: 5192\n",
      "Rows after removing duplicates: 392692\n"
     ]
    }
   ],
   "source": [
    "# Check for duplicates\n",
    "print(\"Duplicate rows:\", df.duplicated().sum())\n",
    "\n",
    "# Removing duplicates\n",
    "df = df.drop_duplicates()\n",
    "\n",
    "# Verifying\n",
    "print(\"Rows after removing duplicates:\", len(df))"
   ]
  },
  {
   "cell_type": "markdown",
   "id": "17a8a032-23bd-491e-b7a6-b4a9d425c757",
   "metadata": {},
   "source": [
    "## Calculating the total spend per tansaction for futhure use."
   ]
  },
  {
   "cell_type": "code",
   "execution_count": 5,
   "id": "d4ab0042-c9b5-446c-830a-0caf23a7cc51",
   "metadata": {},
   "outputs": [
    {
     "data": {
      "text/html": [
       "<div>\n",
       "<style scoped>\n",
       "    .dataframe tbody tr th:only-of-type {\n",
       "        vertical-align: middle;\n",
       "    }\n",
       "\n",
       "    .dataframe tbody tr th {\n",
       "        vertical-align: top;\n",
       "    }\n",
       "\n",
       "    .dataframe thead th {\n",
       "        text-align: right;\n",
       "    }\n",
       "</style>\n",
       "<table border=\"1\" class=\"dataframe\">\n",
       "  <thead>\n",
       "    <tr style=\"text-align: right;\">\n",
       "      <th></th>\n",
       "      <th>Quantity</th>\n",
       "      <th>UnitPrice</th>\n",
       "      <th>TotalPrice</th>\n",
       "    </tr>\n",
       "  </thead>\n",
       "  <tbody>\n",
       "    <tr>\n",
       "      <th>0</th>\n",
       "      <td>6</td>\n",
       "      <td>2.55</td>\n",
       "      <td>15.30</td>\n",
       "    </tr>\n",
       "    <tr>\n",
       "      <th>1</th>\n",
       "      <td>6</td>\n",
       "      <td>3.39</td>\n",
       "      <td>20.34</td>\n",
       "    </tr>\n",
       "    <tr>\n",
       "      <th>2</th>\n",
       "      <td>8</td>\n",
       "      <td>2.75</td>\n",
       "      <td>22.00</td>\n",
       "    </tr>\n",
       "    <tr>\n",
       "      <th>3</th>\n",
       "      <td>6</td>\n",
       "      <td>3.39</td>\n",
       "      <td>20.34</td>\n",
       "    </tr>\n",
       "    <tr>\n",
       "      <th>4</th>\n",
       "      <td>6</td>\n",
       "      <td>3.39</td>\n",
       "      <td>20.34</td>\n",
       "    </tr>\n",
       "  </tbody>\n",
       "</table>\n",
       "</div>"
      ],
      "text/plain": [
       "   Quantity  UnitPrice  TotalPrice\n",
       "0         6       2.55       15.30\n",
       "1         6       3.39       20.34\n",
       "2         8       2.75       22.00\n",
       "3         6       3.39       20.34\n",
       "4         6       3.39       20.34"
      ]
     },
     "execution_count": 5,
     "metadata": {},
     "output_type": "execute_result"
    }
   ],
   "source": [
    "# Calculating TotalPrice\n",
    "df['TotalPrice'] = df['Quantity'] * df['UnitPrice']\n",
    "\n",
    "# Verifying\n",
    "df[['Quantity', 'UnitPrice', 'TotalPrice']].head()"
   ]
  },
  {
   "cell_type": "markdown",
   "id": "b8514140-5a0d-400c-8493-566a91ff3a03",
   "metadata": {},
   "source": [
    "### InvoiceDate needs to be in datetime format."
   ]
  },
  {
   "cell_type": "code",
   "execution_count": 8,
   "id": "31956f6b-e616-417c-b619-ece1e76a7132",
   "metadata": {},
   "outputs": [
    {
     "name": "stdout",
     "output_type": "stream",
     "text": [
      "InvoiceNo              object\n",
      "StockCode              object\n",
      "Description            object\n",
      "Quantity                int64\n",
      "InvoiceDate    datetime64[ns]\n",
      "UnitPrice             float64\n",
      "CustomerID            float64\n",
      "Country                object\n",
      "TotalPrice            float64\n",
      "dtype: object\n"
     ]
    }
   ],
   "source": [
    "# Converting InvoiceDate to datetime\n",
    "df['InvoiceDate'] = pd.to_datetime(df['InvoiceDate'])\n",
    "\n",
    "# Verifying\n",
    "print(df.dtypes)"
   ]
  },
  {
   "cell_type": "code",
   "execution_count": 9,
   "id": "b16e87d1-9f04-4bae-a20f-3fe34f663af5",
   "metadata": {},
   "outputs": [
    {
     "name": "stdout",
     "output_type": "stream",
     "text": [
      "Cleaned data saved to data/cleaned_data.csv\n"
     ]
    }
   ],
   "source": [
    "# Saving cleaned data\n",
    "df.to_csv(\"data/cleaned_data.csv\", index=False)\n",
    "print(\"Cleaned data saved to data/cleaned_data.csv\")"
   ]
  },
  {
   "cell_type": "markdown",
   "id": "92a83118-14af-4012-b419-1426b7bb26f6",
   "metadata": {},
   "source": [
    "## Featuring Engineering. (RFM)"
   ]
  },
  {
   "cell_type": "code",
   "execution_count": 10,
   "id": "c55e0128-c38b-495d-a582-92c1e6b5296f",
   "metadata": {},
   "outputs": [
    {
     "data": {
      "text/html": [
       "<div>\n",
       "<style scoped>\n",
       "    .dataframe tbody tr th:only-of-type {\n",
       "        vertical-align: middle;\n",
       "    }\n",
       "\n",
       "    .dataframe tbody tr th {\n",
       "        vertical-align: top;\n",
       "    }\n",
       "\n",
       "    .dataframe thead th {\n",
       "        text-align: right;\n",
       "    }\n",
       "</style>\n",
       "<table border=\"1\" class=\"dataframe\">\n",
       "  <thead>\n",
       "    <tr style=\"text-align: right;\">\n",
       "      <th></th>\n",
       "      <th>InvoiceNo</th>\n",
       "      <th>StockCode</th>\n",
       "      <th>Description</th>\n",
       "      <th>Quantity</th>\n",
       "      <th>InvoiceDate</th>\n",
       "      <th>UnitPrice</th>\n",
       "      <th>CustomerID</th>\n",
       "      <th>Country</th>\n",
       "      <th>TotalPrice</th>\n",
       "    </tr>\n",
       "  </thead>\n",
       "  <tbody>\n",
       "    <tr>\n",
       "      <th>0</th>\n",
       "      <td>536365</td>\n",
       "      <td>85123A</td>\n",
       "      <td>WHITE HANGING HEART T-LIGHT HOLDER</td>\n",
       "      <td>6</td>\n",
       "      <td>2010-12-01 08:26:00</td>\n",
       "      <td>2.55</td>\n",
       "      <td>17850.0</td>\n",
       "      <td>United Kingdom</td>\n",
       "      <td>15.30</td>\n",
       "    </tr>\n",
       "    <tr>\n",
       "      <th>1</th>\n",
       "      <td>536365</td>\n",
       "      <td>71053</td>\n",
       "      <td>WHITE METAL LANTERN</td>\n",
       "      <td>6</td>\n",
       "      <td>2010-12-01 08:26:00</td>\n",
       "      <td>3.39</td>\n",
       "      <td>17850.0</td>\n",
       "      <td>United Kingdom</td>\n",
       "      <td>20.34</td>\n",
       "    </tr>\n",
       "    <tr>\n",
       "      <th>2</th>\n",
       "      <td>536365</td>\n",
       "      <td>84406B</td>\n",
       "      <td>CREAM CUPID HEARTS COAT HANGER</td>\n",
       "      <td>8</td>\n",
       "      <td>2010-12-01 08:26:00</td>\n",
       "      <td>2.75</td>\n",
       "      <td>17850.0</td>\n",
       "      <td>United Kingdom</td>\n",
       "      <td>22.00</td>\n",
       "    </tr>\n",
       "    <tr>\n",
       "      <th>3</th>\n",
       "      <td>536365</td>\n",
       "      <td>84029G</td>\n",
       "      <td>KNITTED UNION FLAG HOT WATER BOTTLE</td>\n",
       "      <td>6</td>\n",
       "      <td>2010-12-01 08:26:00</td>\n",
       "      <td>3.39</td>\n",
       "      <td>17850.0</td>\n",
       "      <td>United Kingdom</td>\n",
       "      <td>20.34</td>\n",
       "    </tr>\n",
       "    <tr>\n",
       "      <th>4</th>\n",
       "      <td>536365</td>\n",
       "      <td>84029E</td>\n",
       "      <td>RED WOOLLY HOTTIE WHITE HEART.</td>\n",
       "      <td>6</td>\n",
       "      <td>2010-12-01 08:26:00</td>\n",
       "      <td>3.39</td>\n",
       "      <td>17850.0</td>\n",
       "      <td>United Kingdom</td>\n",
       "      <td>20.34</td>\n",
       "    </tr>\n",
       "  </tbody>\n",
       "</table>\n",
       "</div>"
      ],
      "text/plain": [
       "   InvoiceNo StockCode                          Description  Quantity  \\\n",
       "0     536365    85123A   WHITE HANGING HEART T-LIGHT HOLDER         6   \n",
       "1     536365     71053                  WHITE METAL LANTERN         6   \n",
       "2     536365    84406B       CREAM CUPID HEARTS COAT HANGER         8   \n",
       "3     536365    84029G  KNITTED UNION FLAG HOT WATER BOTTLE         6   \n",
       "4     536365    84029E       RED WOOLLY HOTTIE WHITE HEART.         6   \n",
       "\n",
       "          InvoiceDate  UnitPrice  CustomerID         Country  TotalPrice  \n",
       "0 2010-12-01 08:26:00       2.55     17850.0  United Kingdom       15.30  \n",
       "1 2010-12-01 08:26:00       3.39     17850.0  United Kingdom       20.34  \n",
       "2 2010-12-01 08:26:00       2.75     17850.0  United Kingdom       22.00  \n",
       "3 2010-12-01 08:26:00       3.39     17850.0  United Kingdom       20.34  \n",
       "4 2010-12-01 08:26:00       3.39     17850.0  United Kingdom       20.34  "
      ]
     },
     "execution_count": 10,
     "metadata": {},
     "output_type": "execute_result"
    }
   ],
   "source": [
    "# Loading cleaned data\n",
    "df = pd.read_csv(\"data/cleaned_data.csv\")\n",
    "df['InvoiceDate'] = pd.to_datetime(df['InvoiceDate'])  # Reconvert datetime\n",
    "\n",
    "df.head()"
   ]
  },
  {
   "cell_type": "markdown",
   "id": "ea6f704d-f04d-4bb6-9f1e-38d6bb56ced3",
   "metadata": {},
   "source": [
    "## Calculating RFM Scores\n",
    "\n",
    "Recency gives the days since the customers last purchase\n",
    "\n",
    "frequency gives number of unique invoices(purchases) per customer.\n",
    "\n",
    "Monetary gives total spend per customer."
   ]
  },
  {
   "cell_type": "code",
   "execution_count": 11,
   "id": "167ee0cf-9f96-4232-933c-eb8d117522cd",
   "metadata": {},
   "outputs": [
    {
     "name": "stdout",
     "output_type": "stream",
     "text": [
      "Reference date: 2011-12-10 12:50:00\n",
      "            Recency  Frequency  Monetary\n",
      "CustomerID                              \n",
      "12346.0         326          1  77183.60\n",
      "12347.0           2          7   4310.00\n",
      "12348.0          75          4   1797.24\n",
      "12349.0          19          1   1757.55\n",
      "12350.0         310          1    334.40\n",
      "           Recency    Frequency       Monetary\n",
      "count  4338.000000  4338.000000    4338.000000\n",
      "mean     92.536422     4.272015    2048.688081\n",
      "std     100.014169     7.697998    8985.230220\n",
      "min       1.000000     1.000000       3.750000\n",
      "25%      18.000000     1.000000     306.482500\n",
      "50%      51.000000     2.000000     668.570000\n",
      "75%     142.000000     5.000000    1660.597500\n",
      "max     374.000000   209.000000  280206.020000\n"
     ]
    }
   ],
   "source": [
    "# Need a date to compare against—picking one day after the last sale\n",
    "from datetime import datetime\n",
    "reference_date = df['InvoiceDate'].max() + pd.Timedelta(days=1)\n",
    "print(\"Reference date:\", reference_date)\n",
    "\n",
    "# Grouping by CustomerID to get RFM\n",
    "rfm = df.groupby('CustomerID').agg({\n",
    "    'InvoiceDate': lambda x: (reference_date - x.max()).days,  # Days since last buy\n",
    "    'InvoiceNo': 'nunique',                                    # How many purchases\n",
    "    'TotalPrice': 'sum'                                        # Total money spent\n",
    "}).rename(columns={\n",
    "    'InvoiceDate': 'Recency',\n",
    "    'InvoiceNo': 'Frequency',\n",
    "    'TotalPrice': 'Monetary'\n",
    "})\n",
    "\n",
    "# Checking out the results\n",
    "print(rfm.head())\n",
    "print(rfm.describe())"
   ]
  },
  {
   "cell_type": "markdown",
   "id": "aef494a3-712a-4841-9c84-f0a1aabdc6d4",
   "metadata": {},
   "source": [
    "This gave me a table with each customer’s RFM scores—pretty cool to see!"
   ]
  },
  {
   "cell_type": "code",
   "execution_count": 12,
   "id": "3d23f64b-2d80-45e4-a4be-b8bbd7211db5",
   "metadata": {},
   "outputs": [
    {
     "name": "stdout",
     "output_type": "stream",
     "text": [
      "RFM data saved to data/rfm_data.csv\n"
     ]
    }
   ],
   "source": [
    "# Saving my RFM data as a CSV\n",
    "rfm.to_csv(\"data/rfm_data.csv\", index=False)\n",
    "print(\"RFM data saved to data/rfm_data.csv\")"
   ]
  },
  {
   "cell_type": "markdown",
   "id": "eea22909-e9b4-4c19-b1c3-b85a6a71ac0f",
   "metadata": {},
   "source": [
    "By the end of this phase, I turned that chaotic Excel file into a clean dataset and set up RFM scores. It took some effort for dropping rows, fixing numbers, and grouping stuff—but now I’ve got a solid base for exploring and modeling. Now ready for the next step."
   ]
  }
 ],
 "metadata": {
  "kernelspec": {
   "display_name": "Python 3 (ipykernel)",
   "language": "python",
   "name": "python3"
  },
  "language_info": {
   "codemirror_mode": {
    "name": "ipython",
    "version": 3
   },
   "file_extension": ".py",
   "mimetype": "text/x-python",
   "name": "python",
   "nbconvert_exporter": "python",
   "pygments_lexer": "ipython3",
   "version": "3.12.8"
  }
 },
 "nbformat": 4,
 "nbformat_minor": 5
}
