{
 "cells": [
  {
   "cell_type": "code",
   "execution_count": 2,
   "id": "abdcb852-40a7-4d80-8199-2d7d5fd15c31",
   "metadata": {},
   "outputs": [
    {
     "name": "stdout",
     "output_type": "stream",
     "text": [
      "   Recency  Frequency  Monetary  Cluster\n",
      "0      326          1  77183.60        3\n",
      "1        2          7   4310.00        0\n",
      "2       75          4   1797.24        0\n",
      "3       19          1   1757.55        0\n",
      "4      310          1    334.40        1\n"
     ]
    }
   ],
   "source": [
    "# Bringing in the tools we’ll need\n",
    "import pandas as pd\n",
    "import numpy as np\n",
    "from sklearn.model_selection import train_test_split\n",
    "from sklearn.ensemble import RandomForestClassifier\n",
    "from sklearn.metrics import classification_report, roc_auc_score\n",
    "import matplotlib.pyplot as plt\n",
    "\n",
    "# Loading our segmented RFM data\n",
    "rfm = pd.read_csv(\"data/rfm_segmented.csv\")\n",
    "\n",
    "# Quick peek to make sure it’s all good\n",
    "print(rfm.head())"
   ]
  },
  {
   "cell_type": "markdown",
   "id": "e7a64378-5fa7-4e89-b4f9-e974d2b787da",
   "metadata": {},
   "source": [
    "## Set a chrun threshold\n",
    "\n",
    "Let’s say a customer has churned if they haven’t bought anything in the last 180 days (6 months). It’s a reasonable guess for an e-commerce business, but you can tweak it later."
   ]
  },
  {
   "cell_type": "code",
   "execution_count": 4,
   "id": "b1f909e1-502e-4c45-a1b8-8dc346c0fb0e",
   "metadata": {},
   "outputs": [
    {
     "name": "stdout",
     "output_type": "stream",
     "text": [
      "Churn breakdown:\n",
      "Churn\n",
      "0    3478\n",
      "1     860\n",
      "Name: count, dtype: int64\n"
     ]
    }
   ],
   "source": [
    "# Figuring out who’s churned—180 days feels like a solid cutoff\n",
    "rfm['Churn'] = (rfm['Recency'] > 180).astype(int)\n",
    "\n",
    "# Let’s see how many churned vs. didn’t\n",
    "print(\"Churn breakdown:\")\n",
    "print(rfm['Churn'].value_counts())"
   ]
  },
  {
   "cell_type": "markdown",
   "id": "3f65e279-6d43-4740-a7c1-f1976209210b",
   "metadata": {},
   "source": [
    "This clearly says, 0 for non-churned, 1 for churned. Will Expect more non-churned since this dataset leans toward active customers."
   ]
  },
  {
   "cell_type": "markdown",
   "id": "80d73b3d-6560-41ae-ac33-78e1548f12d7",
   "metadata": {},
   "source": [
    "## Prep the Data for Modeling\n",
    "### Pick Features and Target\n",
    "Using Recency, Frequency, Monetary, and Cluster as features to predict Churn."
   ]
  },
  {
   "cell_type": "code",
   "execution_count": 5,
   "id": "5088b5c7-565f-4313-9227-3d4b0bdc9dab",
   "metadata": {},
   "outputs": [
    {
     "name": "stdout",
     "output_type": "stream",
     "text": [
      "Training set size: (3036, 4)\n",
      "Testing set size: (1302, 4)\n"
     ]
    }
   ],
   "source": [
    "# Grabbing the features we’ll use to predict churn\n",
    "X = rfm[['Recency', 'Frequency', 'Monetary', 'Cluster']]\n",
    "y = rfm['Churn']\n",
    "\n",
    "# Splitting into training and testing sets—70% train, 30% test\n",
    "X_train, X_test, y_train, y_test = train_test_split(X, y, test_size=0.3, random_state=42)\n",
    "\n",
    "# Quick check on the shapes\n",
    "print(\"Training set size:\", X_train.shape)\n",
    "print(\"Testing set size:\", X_test.shape)"
   ]
  },
  {
   "cell_type": "markdown",
   "id": "bb526f2a-ac05-4a81-8c1e-e6b69b3745f4",
   "metadata": {},
   "source": [
    "## Train The model\n",
    "\n",
    "Building a Random Forest Classifier"
   ]
  },
  {
   "cell_type": "code",
   "execution_count": 7,
   "id": "a20c5cf5-4031-44b6-9b1d-9cc9d653382f",
   "metadata": {},
   "outputs": [],
   "source": [
    "# Setting up the Random Forest model—keeping it simple for now\n",
    "model = RandomForestClassifier(random_state=42)\n",
    "model.fit(X_train, y_train)\n",
    "\n",
    "# Making predictions on the test set\n",
    "y_pred = model.predict(X_test)"
   ]
  },
  {
   "cell_type": "code",
   "execution_count": 8,
   "id": "229924cb-dbe1-4026-b744-6bf500f8b0a4",
   "metadata": {},
   "outputs": [
    {
     "name": "stdout",
     "output_type": "stream",
     "text": [
      "Model Performance:\n",
      "              precision    recall  f1-score   support\n",
      "\n",
      "           0       1.00      1.00      1.00      1054\n",
      "           1       1.00      1.00      1.00       248\n",
      "\n",
      "    accuracy                           1.00      1302\n",
      "   macro avg       1.00      1.00      1.00      1302\n",
      "weighted avg       1.00      1.00      1.00      1302\n",
      "\n",
      "ROC-AUC Score: 1.0\n"
     ]
    }
   ],
   "source": [
    "# Seeing how well the model predicts\n",
    "print(\"Model Performance:\")\n",
    "print(classification_report(y_test, y_pred))\n",
    "\n",
    "# Adding ROC-AUC for a broader accuracy picture\n",
    "roc_score = roc_auc_score(y_test, y_pred)\n",
    "print(\"ROC-AUC Score:\", roc_score)"
   ]
  },
  {
   "cell_type": "markdown",
   "id": "17203ba9-0c5a-43b5-ac45-dd2b8a93db85",
   "metadata": {},
   "source": [
    "Precision, recall, and F1-scores for 0 and 1."
   ]
  },
  {
   "cell_type": "markdown",
   "id": "a1a7719b-9a99-4db8-a0c5-e4868386e483",
   "metadata": {},
   "source": [
    "## Dig Into Feature Importance\n",
    "\n",
    "Figuring out which features drive churn predictions."
   ]
  },
  {
   "cell_type": "code",
   "execution_count": 9,
   "id": "bdaee847-c604-45a0-afa9-6f82fdc92448",
   "metadata": {},
   "outputs": [
    {
     "name": "stdout",
     "output_type": "stream",
     "text": [
      "Feature Importance:\n",
      "     Feature  Importance\n",
      "0    Recency    0.743688\n",
      "3    Cluster    0.219913\n",
      "1  Frequency    0.030769\n",
      "2   Monetary    0.005630\n"
     ]
    },
    {
     "data": {
      "image/png": "[encoded data removed]",
      "text/plain": [
       "<Figure size 800x500 with 1 Axes>"
      ]
     },
     "metadata": {},
     "output_type": "display_data"
    }
   ],
   "source": [
    "# Checking which features the model cares about\n",
    "importance = pd.DataFrame({\n",
    "    'Feature': X.columns,\n",
    "    'Importance': model.feature_importances_\n",
    "})\n",
    "print(\"Feature Importance:\")\n",
    "print(importance.sort_values(by='Importance', ascending=False))\n",
    "\n",
    "# Quick bar plot to visualize it\n",
    "plt.figure(figsize=(8, 5))\n",
    "plt.bar(importance['Feature'], importance['Importance'], color='skyblue')\n",
    "plt.title(\"What Drives Churn Predictions?\")\n",
    "plt.xlabel(\"Features\")\n",
    "plt.ylabel(\"Importance\")\n",
    "plt.tight_layout()\n",
    "plt.savefig(\"plots/feature_importance.png\")\n",
    "plt.show()"
   ]
  },
  {
   "cell_type": "markdown",
   "id": "910d5daa-3ee9-4392-9796-867ea9ca61c8",
   "metadata": {},
   "source": [
    "It shows recency is likely top the list (since it defines churn), but Frequency and Monetary will also play a role too."
   ]
  },
  {
   "cell_type": "code",
   "execution_count": 10,
   "id": "a1fed927-3744-4b74-9ca6-105dd6fb6f45",
   "metadata": {},
   "outputs": [
    {
     "name": "stdout",
     "output_type": "stream",
     "text": [
      "Data with churn predictions saved to data/rfm_with_churn.csv\n"
     ]
    }
   ],
   "source": [
    "# Saving the RFM data with churn labels\n",
    "rfm.to_csv(\"data/rfm_with_churn.csv\", index=False)\n",
    "print(\"Data with churn predictions saved to data/rfm_with_churn.csv\")"
   ]
  },
  {
   "cell_type": "markdown",
   "id": "a89c6109-0995-47b7-b263-56f1ff7bb1f9",
   "metadata": {},
   "source": [
    "### Obervations\n",
    "- Recency is the biggie for predicting churn—no.\n",
    "- The model’s pretty solid, but we could tweak it if the churn split looks off.\n",
    "  \n",
    "- Maybe will test different churn cutoffs or adding more features?"
   ]
  },
  {
   "cell_type": "code",
   "execution_count": 11,
   "id": "321d7b53-23c6-4f9b-8f6c-e1fca86e2757",
   "metadata": {},
   "outputs": [
    {
     "name": "stdout",
     "output_type": "stream",
     "text": [
      "Percentage of customers who churned: 19.8%\n"
     ]
    }
   ],
   "source": [
    "# Quick calc to see churn rate\n",
    "churn_rate = rfm['Churn'].mean() * 100\n",
    "print(f\"Percentage of customers who churned: {churn_rate:.1f}%\")"
   ]
  },
  {
   "cell_type": "markdown",
   "id": "f0066917-b6e9-4936-bef4-60dadbcaab53",
   "metadata": {},
   "source": [
    "### Final Insights\n",
    "\n",
    "### Customer Segments\n",
    "- **Cluster 0**: These are the VIPs—buy often, spend a lot, and shopped recently. Let’s keep them happy with loyalty perks or exclusive deals.\n",
    "- **Cluster 1**: One-and-done folks—haven’t been back in ages and barely spent much. Maybe hit them with a “We miss you” discount.\n",
    "- **Cluster 2**: Middle-of-the-road customers—decent activity but not super loyal yet. Could be worth targeting with upsell campaigns.\n",
    "- **Cluster 3**: Small group of big spenders but not frequent. Let’s figure out what they love and nudge them to shop more often.\n",
    "\n",
    "### Churn Predictions\n",
    "- About 19.8% of customers are at risk of churning (based on 180-day cutoff—tweak if needed).\n",
    "- Recency is the biggest red flag—if someone hasn’t bought in a while, they’re likely gone. Frequency and spend matter too, but less so.\n",
    "- **Action Idea**: Send personalized emails to at-risk customers (e.g., “It’s been a while—here’s 10% off!”) and track if it brings them back.\n",
    "\n",
    "### Big Picture\n",
    "- Sales peak late in the year—holiday season prep could boost revenue.\n",
    "- The UK drives most of the cash—maybe focus marketing there, but test smaller markets too."
   ]
  }
 ],
 "metadata": {
  "kernelspec": {
   "display_name": "Python 3 (ipykernel)",
   "language": "python",
   "name": "python3"
  },
  "language_info": {
   "codemirror_mode": {
    "name": "ipython",
    "version": 3
   },
   "file_extension": ".py",
   "mimetype": "text/x-python",
   "name": "python",
   "nbconvert_exporter": "python",
   "pygments_lexer": "ipython3",
   "version": "3.12.8"
  }
 },
 "nbformat": 4,
 "nbformat_minor": 5
}
